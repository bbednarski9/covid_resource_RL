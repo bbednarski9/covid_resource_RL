{
 "cells": [
  {
   "cell_type": "code",
   "execution_count": 4,
   "metadata": {},
   "outputs": [],
   "source": [
    "# import python packages\n",
    "import numpy as np\n",
    "import pandas as pd\n",
    "import os"
   ]
  },
  {
   "cell_type": "code",
   "execution_count": 5,
   "metadata": {},
   "outputs": [],
   "source": [
    "directory = '.'\n",
    "list_of_dirs = [x[0] for x in os.walk(directory)] # get list of all folders in the directory"
   ]
  },
  {
   "cell_type": "code",
   "execution_count": 6,
   "metadata": {},
   "outputs": [
    {
     "data": {
      "text/plain": [
       "['.',\n",
       " './.ipynb_checkpoints',\n",
       " './.git',\n",
       " './.git/logs',\n",
       " './.git/logs/refs',\n",
       " './.git/logs/refs/remotes',\n",
       " './.git/logs/refs/remotes/origin',\n",
       " './.git/logs/refs/heads',\n",
       " './.git/branches',\n",
       " './.git/hooks',\n",
       " './.git/info',\n",
       " './.git/objects',\n",
       " './.git/objects/76',\n",
       " './.git/objects/e5',\n",
       " './.git/objects/83',\n",
       " './.git/objects/pack',\n",
       " './.git/objects/2f',\n",
       " './.git/objects/15',\n",
       " './.git/objects/1a',\n",
       " './.git/objects/b2',\n",
       " './.git/objects/91',\n",
       " './.git/objects/b4',\n",
       " './.git/objects/9c',\n",
       " './.git/objects/a6',\n",
       " './.git/objects/b0',\n",
       " './.git/objects/4d',\n",
       " './.git/objects/11',\n",
       " './.git/objects/30',\n",
       " './.git/objects/53',\n",
       " './.git/objects/7c',\n",
       " './.git/objects/a7',\n",
       " './.git/objects/28',\n",
       " './.git/objects/1c',\n",
       " './.git/objects/21',\n",
       " './.git/objects/c4',\n",
       " './.git/objects/f8',\n",
       " './.git/objects/14',\n",
       " './.git/objects/2d',\n",
       " './.git/objects/2a',\n",
       " './.git/objects/info',\n",
       " './.git/objects/e7',\n",
       " './.git/objects/b5',\n",
       " './.git/objects/55',\n",
       " './.git/objects/06',\n",
       " './.git/objects/10',\n",
       " './.git/objects/52',\n",
       " './.git/objects/c3',\n",
       " './.git/objects/54',\n",
       " './.git/objects/fd',\n",
       " './.git/objects/0d',\n",
       " './.git/objects/6b',\n",
       " './.git/objects/d4',\n",
       " './.git/refs',\n",
       " './.git/refs/remotes',\n",
       " './.git/refs/remotes/origin',\n",
       " './.git/refs/tags',\n",
       " './.git/refs/heads',\n",
       " './data',\n",
       " './data/2020_05_04']"
      ]
     },
     "execution_count": 6,
     "metadata": {},
     "output_type": "execute_result"
    }
   ],
   "source": [
    "list_of_dirs"
   ]
  },
  {
   "cell_type": "markdown",
   "metadata": {},
   "source": [
    "## Class to parse (and access) by state"
   ]
  },
  {
   "cell_type": "code",
   "execution_count": 83,
   "metadata": {},
   "outputs": [],
   "source": [
    "class PM_Parser():\n",
    "    def __init__(self, path):\n",
    "        asthma_raw_path = path + 'PolicyMapData_Asthma_2017.csv'\n",
    "        COPD_raw_path = path + 'PolicyMapData_COPD_2017.csv'\n",
    "        diabetes_raw_path = path + 'PolicyMapData_Diabetes_2017.csv'\n",
    "        heartDisease_raw_path = path + 'PolicyMapData_HeartDisease_2017.csv'\n",
    "        print('Initializing PM_Parser object, reading datasets from: %s'%path)\n",
    "        # read CSV files for all four data sets\n",
    "        asthma_raw = pd.read_csv(asthma_raw_path)[['State','Estimated percent of adults reporting to have asthma in 2017.']]\\\n",
    "                    .rename(columns={'State': 'state', 'Estimated percent of adults reporting to have asthma in 2017.': 'est_asthma_perc'})\n",
    "        COPD_raw = pd.read_csv(COPD_raw_path)[['State','Estimated percent of adults ever diagnosed with chronic obstruct']]\\\n",
    "                    .rename(columns={'state': 'state', 'Estimated percent of adults ever diagnosed with chronic obstruct': 'est_COPD_perc'})\n",
    "        diabetes_raw = pd.read_csv(diabetes_raw_path)[['State','Estimated percent of adults ever diagnosed with diabetes in 2017']]\\\n",
    "                    .rename(columns={'State': 'state', 'Estimated percent of adults ever diagnosed with diabetes in 2017': 'est_diabetes_perc'})\n",
    "        heartDisease_raw = pd.read_csv(heartDisease_raw_path)[['State','Estimated percent of adults ever diagnosed with heart disease in']]\\\n",
    "                    .rename(columns={'State': 'state', 'Estimated percent of adults ever diagnosed with heart disease in': 'est_heartDisease_perc'})\n",
    "        # aggregate data state-wise into single dataframe\n",
    "        self.cumulative_data = pd.concat([asthma_raw['state'],asthma_raw['est_asthma_perc'],COPD_raw['est_COPD_perc'],diabetes_raw['est_diabetes_perc'],\\\n",
    "                    heartDisease_raw['est_heartDisease_perc']], axis=1).iloc[0:51]\n",
    "        \n",
    "    def index_by_state(self,state):\n",
    "        return self.cumulative_data.where(self.cumulative_data['state']==state).dropna(how='all')\n",
    "\n",
    "        "
   ]
  },
  {
   "cell_type": "markdown",
   "metadata": {},
   "source": [
    "## Print data for New York"
   ]
  },
  {
   "cell_type": "code",
   "execution_count": 84,
   "metadata": {},
   "outputs": [
    {
     "name": "stdout",
     "output_type": "stream",
     "text": [
      "Initializing PM_Parser object, reading datasets from: ./data/\n"
     ]
    },
    {
     "data": {
      "text/html": [
       "<div>\n",
       "<style scoped>\n",
       "    .dataframe tbody tr th:only-of-type {\n",
       "        vertical-align: middle;\n",
       "    }\n",
       "\n",
       "    .dataframe tbody tr th {\n",
       "        vertical-align: top;\n",
       "    }\n",
       "\n",
       "    .dataframe thead th {\n",
       "        text-align: right;\n",
       "    }\n",
       "</style>\n",
       "<table border=\"1\" class=\"dataframe\">\n",
       "  <thead>\n",
       "    <tr style=\"text-align: right;\">\n",
       "      <th></th>\n",
       "      <th>state</th>\n",
       "      <th>est_asthma_perc</th>\n",
       "      <th>est_COPD_perc</th>\n",
       "      <th>est_diabetes_perc</th>\n",
       "      <th>est_heartDisease_perc</th>\n",
       "    </tr>\n",
       "  </thead>\n",
       "  <tbody>\n",
       "    <tr>\n",
       "      <th>32</th>\n",
       "      <td>New York</td>\n",
       "      <td>9.2</td>\n",
       "      <td>5.3</td>\n",
       "      <td>10.5</td>\n",
       "      <td>3.9</td>\n",
       "    </tr>\n",
       "  </tbody>\n",
       "</table>\n",
       "</div>"
      ],
      "text/plain": [
       "       state  est_asthma_perc  est_COPD_perc  est_diabetes_perc  \\\n",
       "32  New York              9.2            5.3               10.5   \n",
       "\n",
       "    est_heartDisease_perc  \n",
       "32                    3.9  "
      ]
     },
     "execution_count": 84,
     "metadata": {},
     "output_type": "execute_result"
    }
   ],
   "source": [
    "path = './data/'\n",
    "state = 'New York'\n",
    "pm_parser = PM_Parser(path)\n",
    "pm_parser.index_by_state(state)"
   ]
  },
  {
   "cell_type": "markdown",
   "metadata": {},
   "source": [
    "## Print data for California"
   ]
  },
  {
   "cell_type": "code",
   "execution_count": 88,
   "metadata": {},
   "outputs": [
    {
     "name": "stdout",
     "output_type": "stream",
     "text": [
      "Initializing PM_Parser object, reading datasets from: ./data/\n"
     ]
    },
    {
     "data": {
      "text/html": [
       "<div>\n",
       "<style scoped>\n",
       "    .dataframe tbody tr th:only-of-type {\n",
       "        vertical-align: middle;\n",
       "    }\n",
       "\n",
       "    .dataframe tbody tr th {\n",
       "        vertical-align: top;\n",
       "    }\n",
       "\n",
       "    .dataframe thead th {\n",
       "        text-align: right;\n",
       "    }\n",
       "</style>\n",
       "<table border=\"1\" class=\"dataframe\">\n",
       "  <thead>\n",
       "    <tr style=\"text-align: right;\">\n",
       "      <th></th>\n",
       "      <th>state</th>\n",
       "      <th>est_asthma_perc</th>\n",
       "      <th>est_COPD_perc</th>\n",
       "      <th>est_diabetes_perc</th>\n",
       "      <th>est_heartDisease_perc</th>\n",
       "    </tr>\n",
       "  </thead>\n",
       "  <tbody>\n",
       "    <tr>\n",
       "      <th>4</th>\n",
       "      <td>California</td>\n",
       "      <td>7.9</td>\n",
       "      <td>4.5</td>\n",
       "      <td>10.5</td>\n",
       "      <td>2.8</td>\n",
       "    </tr>\n",
       "  </tbody>\n",
       "</table>\n",
       "</div>"
      ],
      "text/plain": [
       "        state  est_asthma_perc  est_COPD_perc  est_diabetes_perc  \\\n",
       "4  California              7.9            4.5               10.5   \n",
       "\n",
       "   est_heartDisease_perc  \n",
       "4                    2.8  "
      ]
     },
     "execution_count": 88,
     "metadata": {},
     "output_type": "execute_result"
    }
   ],
   "source": [
    "path = './data/'\n",
    "state = 'California'\n",
    "pm_parser = PM_Parser(path)\n",
    "pm_parser.index_by_state(state)"
   ]
  },
  {
   "cell_type": "markdown",
   "metadata": {},
   "source": [
    "## Print data for Illinois"
   ]
  },
  {
   "cell_type": "code",
   "execution_count": 89,
   "metadata": {},
   "outputs": [
    {
     "name": "stdout",
     "output_type": "stream",
     "text": [
      "Initializing PM_Parser object, reading datasets from: ./data/\n"
     ]
    },
    {
     "data": {
      "text/html": [
       "<div>\n",
       "<style scoped>\n",
       "    .dataframe tbody tr th:only-of-type {\n",
       "        vertical-align: middle;\n",
       "    }\n",
       "\n",
       "    .dataframe tbody tr th {\n",
       "        vertical-align: top;\n",
       "    }\n",
       "\n",
       "    .dataframe thead th {\n",
       "        text-align: right;\n",
       "    }\n",
       "</style>\n",
       "<table border=\"1\" class=\"dataframe\">\n",
       "  <thead>\n",
       "    <tr style=\"text-align: right;\">\n",
       "      <th></th>\n",
       "      <th>state</th>\n",
       "      <th>est_asthma_perc</th>\n",
       "      <th>est_COPD_perc</th>\n",
       "      <th>est_diabetes_perc</th>\n",
       "      <th>est_heartDisease_perc</th>\n",
       "    </tr>\n",
       "  </thead>\n",
       "  <tbody>\n",
       "    <tr>\n",
       "      <th>13</th>\n",
       "      <td>Illinois</td>\n",
       "      <td>8.2</td>\n",
       "      <td>6.7</td>\n",
       "      <td>11.0</td>\n",
       "      <td>4.0</td>\n",
       "    </tr>\n",
       "  </tbody>\n",
       "</table>\n",
       "</div>"
      ],
      "text/plain": [
       "       state  est_asthma_perc  est_COPD_perc  est_diabetes_perc  \\\n",
       "13  Illinois              8.2            6.7               11.0   \n",
       "\n",
       "    est_heartDisease_perc  \n",
       "13                    4.0  "
      ]
     },
     "execution_count": 89,
     "metadata": {},
     "output_type": "execute_result"
    }
   ],
   "source": [
    "path = './data/'\n",
    "state = 'Illinois'\n",
    "pm_parser = PM_Parser(path)\n",
    "pm_parser.index_by_state(state)"
   ]
  }
 ],
 "metadata": {
  "kernelspec": {
   "display_name": "Python (238_project)",
   "language": "python",
   "name": "238_project"
  },
  "language_info": {
   "codemirror_mode": {
    "name": "ipython",
    "version": 3
   },
   "file_extension": ".py",
   "mimetype": "text/x-python",
   "name": "python",
   "nbconvert_exporter": "python",
   "pygments_lexer": "ipython3",
   "version": "3.8.2"
  }
 },
 "nbformat": 4,
 "nbformat_minor": 4
}
